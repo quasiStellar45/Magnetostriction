{
 "cells": [
  {
   "cell_type": "code",
   "execution_count": 1,
   "id": "aa1225f3",
   "metadata": {},
   "outputs": [],
   "source": [
    "# Run Number\n",
    "num = 30       # define the number label of the run here, this will create a new folder for the outputs\n",
    "newpath = r'C:\\Users\\Tomas\\Desktop\\Martin Group\\ubermag_images\\test_' # create a new path based on where you want the output\n",
    "newpath = newpath + str(num) # the new path will have the name newpath{num}"
   ]
  },
  {
   "cell_type": "code",
   "execution_count": 2,
   "id": "aad8e9ef",
   "metadata": {},
   "outputs": [],
   "source": [
    "# Import packages\n",
    "import oommfc as mc\n",
    "import discretisedfield as df\n",
    "import micromagneticmodel as mm\n",
    "import numpy as np\n",
    "import matplotlib.pyplot as plt\n",
    "import math\n",
    "import random\n",
    "import os\n",
    "import pandas as pd"
   ]
  },
  {
   "cell_type": "markdown",
   "id": "8e61ed2e",
   "metadata": {},
   "source": [
    "# Material properties\n",
    "## Nickel\n",
    "A_ex = 15e-12       # exchange constant\n",
    "L1 = -24            # Strain constant 1 (<100> cubic direction) in ppm\n",
    "L2 = -48            # Strain constant 2 (<111> cubic direction) in ppm\n",
    "K1 = -0.5e5/1.257e2       # anisotropy constant 1 J/m^3: K1 < 0 indicates hard axis, K1 > 0 easy axis\n",
    "K2 = -0.2e5/1.257e2       # anisotropy constant 2 J/m^3, not callable in this code\n",
    "u_11 = (1, 0, 0)    # K1 axis one: should be hard axis if K1 < 0, easy axis if K1 > 0\n",
    "u_12 = (0, 1, 0)    # K1 axis 2: just needs to be orthogonal to u_11\n",
    "damping = 0.045         # damping constant (alpha)\n",
    "Ms = 4.8e5          # magnetization saturation (A/m)\n",
    "## Metglas\n",
    "A_ex = 15e-12       # exchange constant\n",
    "L1 = 27            # Strain constant 1 (<100> cubic direction) in ppm\n",
    "L2 = 27            # Strain constant 2 (<111> cubic direction) in ppm\n",
    "K1 = -0.5e5/1.257e2       # anisotropy constant 1 J/m^3: K1 < 0 indicates hard axis, K1 > 0 easy axis\n",
    "K2 = -0.2e5/1.257e2       # anisotropy constant 2 J/m^3, not callable in this code\n",
    "u_11 = (1, 0, 0)    # K1 axis one: should be hard axis if K1 < 0, easy axis if K1 > 0\n",
    "u_12 = (0, 1, 0)    # K1 axis 2: just needs to be orthogonal to u_11\n",
    "damping = 0.045         # damping constant (alpha)\n",
    "Ms = 1.27e5          # magnetization saturation (A/m)"
   ]
  },
  {
   "cell_type": "code",
   "execution_count": 3,
   "id": "a0c4ef3e",
   "metadata": {},
   "outputs": [],
   "source": [
    "# Time setup\n",
    "tfinal = .5          # Final time of simulation\n",
    "tstep = 5e-6        # timestep in seconds\n",
    "ntot = int(tfinal/tstep)         # total number of time steps\n",
    "# Material properties\n",
    "A_ex = 15e-12       # exchange constant\n",
    "L1 = -24            # Strain constant 1 (<100> cubic direction) in ppm\n",
    "L2 = -48            # Strain constant 2 (<111> cubic direction) in ppm\n",
    "K1 = -0.5e5/1.257e2       # anisotropy constant 1 J/m^3: K1 < 0 indicates hard axis, K1 > 0 easy axis\n",
    "K2 = -0.2e5/1.257e2       # anisotropy constant 2 J/m^3, not callable in this code \n",
    "u_11 = (1, 0, 0)    # K1 axis one: will be hard axis if K1 < 0, easy axis if K1 > 0\n",
    "u_12 = (0, 1, 0)    # K1 axis 2: just needs to be orthogonal to u_11\n",
    "damping = .3         # damping constant (alpha)\n",
    "Ms = 5.4e5          # magnetization saturation (A/m)\n",
    "# Alternating source properties\n",
    "source_freq = 100   # source frequency (Hz)\n",
    "H_app = (0, 0, 10e3)# applied field (A/m) in  (x,y,z) coordinates\n",
    "source_type = 'sin' # waveform of source\n",
    "# Strain measurement axis\n",
    "B = np.array([0,0,1]) # ([x,y,z])\n",
    "# Geometry of object\n",
    "r = 1e-9            # material radius, m (this is only a radius if making a cylinder)\n",
    "L = 2*r            # material length, m\n",
    "d = 1e-9            # cell dimensions, m"
   ]
  },
  {
   "cell_type": "code",
   "execution_count": 4,
   "id": "9e084ec4",
   "metadata": {},
   "outputs": [],
   "source": [
    "# Create a new folder with name \"[newpath]\"\n",
    "if not os.path.exists(newpath):\n",
    "    os.makedirs(newpath)\n"
   ]
  },
  {
   "cell_type": "code",
   "execution_count": 5,
   "id": "5c703124",
   "metadata": {},
   "outputs": [],
   "source": [
    "# Create a new file with all parameters written into it\n",
    "newfile = newpath + r'\\parameters.txt'\n",
    "f = open(newfile,\"w\")\n",
    "f.write(\n",
    "f\"\"\"\n",
    "# Run Number\n",
    "num = {str(num)}                   # define the number label of the run here, this will create a new folder for the outputs\n",
    "# Time setup\n",
    "tfinal = {str(tfinal)}             # Final time of simulation in seconds\n",
    "tstep = {str(tstep)}               # timestep in seconds\n",
    "ntot = {str(ntot)}                 # total number of time steps\n",
    "# Material properties\n",
    "A_ex = {str(A_ex)}                 # exchange constant\n",
    "L1 = {str(L1)}                     # Strain constant 1 in ppm\n",
    "L2 = {str(L2)}                     # Strain constant 2 in ppm\n",
    "K1 = {str(K1)}                     # anisotropy constant 1\n",
    "K2 = {str(K2)}                     # anisotropy constant 2\n",
    "u_easy = {str(u_11)}               # axis 1 for K1\n",
    "u_hard = {str(u_12)}               # axis 2 for K1\n",
    "damping = {str(damping)}           # damping constant (alpha)\n",
    "Ms = {str(Ms)}                     # magnetization saturation (A/m)\n",
    "# Alternating source properties\n",
    "source_freq = {str(source_freq)}   # source frequency (Hz)\n",
    "H_app = {str(H_app)}               # applied field (A/m)\n",
    "source_type = {source_type}        # waveform of source\n",
    "# Strain measurement axis\n",
    "B = {str(B)}\n",
    "# Geometry of object\n",
    "r = {str(r)}                       # material radius (m)\n",
    "L = {str(L)}                       # material length (m)\n",
    "d = {str(d)}                       # cell dimensions (m)\n",
    "\"\"\"\n",
    ")\n",
    "\n",
    "f.close()"
   ]
  },
  {
   "cell_type": "code",
   "execution_count": 6,
   "id": "9cb8e3ec",
   "metadata": {},
   "outputs": [],
   "source": [
    "# Define initial mesh\n",
    "p1 = (-r, -r, -L/2)                        # Starting point\n",
    "p2 = (r, r, L/2)                           # Ending point\n",
    "cell = (d, d, d)                           # Cell size\n",
    "region = df.Region(p1=p1, p2=p2)           # Define the region\n",
    "mesh = df.Mesh(region=region, cell=cell)   # Create the mesh"
   ]
  },
  {
   "cell_type": "code",
   "execution_count": 7,
   "id": "e2fca108",
   "metadata": {
    "scrolled": true
   },
   "outputs": [
    {
     "data": {
      "application/vnd.jupyter.widget-view+json": {
       "model_id": "fc380882477449aabd383eed47fc1e4d",
       "version_major": 2,
       "version_minor": 0
      },
      "text/plain": [
       "Output()"
      ]
     },
     "metadata": {},
     "output_type": "display_data"
    }
   ],
   "source": [
    "# Initial mesh\n",
    "mesh.k3d()"
   ]
  },
  {
   "cell_type": "code",
   "execution_count": 8,
   "id": "2fd91f95",
   "metadata": {},
   "outputs": [],
   "source": [
    "# Define the system name\n",
    "system = mm.System(name='time_dependent_field')\n",
    "\n",
    "# Define system energy\n",
    "system.energy = (mm.Zeeman(H=H_app, func=source_type, f=source_freq, t0=0) # external field\n",
    "                + mm.Demag()                                               # demagnetization energy\n",
    "                + mm.Exchange(A=A_ex)                                      # exchange energy\n",
    "                + mm.CubicAnisotropy(K=K1, u1=u_11, u2=u_12))              # cubic anisotropy, can be changed to uniaxial\n",
    "                                                                            # see OOMMF documentation for instructions\n",
    "\n",
    "# Define system dynamics with precession and damping term\n",
    "system.dynamics = mm.Precession(gamma0=mm.consts.gamma0) + mm.Damping(alpha=damping)"
   ]
  },
  {
   "cell_type": "code",
   "execution_count": 9,
   "id": "835978e2",
   "metadata": {},
   "outputs": [],
   "source": [
    "def Ms_fun(pos):\n",
    "    \"\"\"Function to set magnitude of magnetisation: zero outside cylindric shape,\n",
    "    Ms inside cylinder.\n",
    "\n",
    "    Cylinder radius is r.\n",
    "\n",
    "    \"\"\"\n",
    "    x, y, z = pos\n",
    "    if (x**2 + y**2)**0.5 < r:\n",
    "        return Ms\n",
    "    else:\n",
    "        return 0"
   ]
  },
  {
   "cell_type": "code",
   "execution_count": 10,
   "id": "d0adc6a5",
   "metadata": {},
   "outputs": [],
   "source": [
    "def cube_fun(pos):\n",
    "    \"\"\"Function to set values for a 2x2x2 cube such that they demagnetize the cube\n",
    "\n",
    "    \"\"\"\n",
    "    i_states = {'state_1':(1,0,1),'state_2':(-1,0,-1),'state_3':(0,1,0),'state_4':(0,-1,0)}\n",
    "    x, y, z = pos\n",
    "    if x > 0 and y > 0 and z > 0: \n",
    "        return i_states['state_1']\n",
    "    if x > 0 and y < 0 and z > 0: \n",
    "        return i_states['state_3']\n",
    "    if x < 0 and y < 0 and z > 0:\n",
    "        return i_states['state_2']\n",
    "    if x < 0 and y > 0 and z > 0:\n",
    "        return i_states['state_4']\n",
    "    if x > 0 and y > 0 and z < 0:\n",
    "        return i_states['state_3']\n",
    "    if x > 0 and y < 0 and z < 0:\n",
    "        return i_states['state_2']\n",
    "    if x < 0 and y < 0 and z < 0:\n",
    "        return i_states['state_4']\n",
    "    if x < 0 and y > 0 and z < 0:\n",
    "        return i_states['state_1']\n"
   ]
  },
  {
   "cell_type": "code",
   "execution_count": 11,
   "id": "beb683ba",
   "metadata": {},
   "outputs": [],
   "source": [
    "# Define the field element\n",
    "system.m = df.Field(mesh, dim=3, value=cube_fun, norm=Ms) # cube_fun is called and the value of each vector is Ms"
   ]
  },
  {
   "cell_type": "markdown",
   "id": "ac40a020",
   "metadata": {},
   "source": [
    "# Assign a random value of 4 defined states to each cell to represent the different domains.\n",
    "\n",
    "i_states = {'state_1':(1,0,1),'state_2':(-1,0,-1),'state_3':(0,1,-1),'state_4':(0,-1,1)}\n",
    "n = len(system.m.array[0,0])\n",
    "i=0\n",
    "for array_mass in system.m.array:\n",
    "    j=0\n",
    "    for array_element in system.m.array[i]:\n",
    "        array_element = np.array(random.choices(list(i_states.values()),k=n))\n",
    "        system.m.array[i,j] = array_element\n",
    "        j+=1\n",
    "    i+=1\n",
    "    "
   ]
  },
  {
   "cell_type": "markdown",
   "id": "3aba2850",
   "metadata": {},
   "source": [
    "i_states = {'state_1':(1,0,1),'state_2':(-1,0,-1),'state_3':(0,1,0),'state_4':(0,-1,0)}\n",
    "# Top Layer\n",
    "system.m.array[0,0,0] = np.array(i_states['state_1'])\n",
    "system.m.array[0,1,0] = np.array(i_states['state_4'])\n",
    "system.m.array[1,0,0] = np.array(i_states['state_3'])\n",
    "system.m.array[1,1,0] = np.array(i_states['state_2'])\n",
    "# Bottom Layer\n",
    "system.m.array[0,0,1] = np.array(i_states['state_2'])\n",
    "system.m.array[0,1,1] = np.array(i_states['state_3'])\n",
    "system.m.array[1,0,1] = np.array(i_states['state_1'])\n",
    "system.m.array[1,1,1] = np.array(i_states['state_4'])\n",
    "\n",
    "\n",
    "system.m.array"
   ]
  },
  {
   "cell_type": "code",
   "execution_count": 12,
   "id": "cbb736db",
   "metadata": {},
   "outputs": [],
   "source": [
    "# Redefine the field element to define the cylindrical shape again\n",
    "#system.m = df.Field(mesh, dim=3, value = system.m.array, norm=Ms_fun)\n",
    "#system.m = df.Field(mesh, dim=3, value = system.m.array, norm=Ms)"
   ]
  },
  {
   "cell_type": "code",
   "execution_count": 13,
   "id": "d65e068b",
   "metadata": {
    "scrolled": true
   },
   "outputs": [
    {
     "data": {
      "application/vnd.jupyter.widget-view+json": {
       "model_id": "b8331b4f6cdb416ea7cba58c3f6867ad",
       "version_major": 2,
       "version_minor": 0
      },
      "text/plain": [
       "Output()"
      ]
     },
     "metadata": {},
     "output_type": "display_data"
    }
   ],
   "source": [
    "# Show the cylinder/wire shape\n",
    "system.m.norm.k3d.nonzero()"
   ]
  },
  {
   "cell_type": "code",
   "execution_count": 14,
   "id": "b66f515e",
   "metadata": {},
   "outputs": [
    {
     "data": {
      "image/png": "[encoded data removed]",
      "text/plain": [
       "<Figure size 800x600 with 2 Axes>"
      ]
     },
     "metadata": {},
     "output_type": "display_data"
    }
   ],
   "source": [
    "# Plot the initial magnetization of one cross section that is one cell thick\n",
    "system.m.plane('z').mpl()\n",
    "plt.savefig(newpath+r'\\initial_mag.jpg')"
   ]
  },
  {
   "cell_type": "code",
   "execution_count": null,
   "id": "23cb1750",
   "metadata": {
    "scrolled": false
   },
   "outputs": [
    {
     "data": {
      "application/vnd.jupyter.widget-view+json": {
       "model_id": "eb90d67a2ac641b99dd5c72c9eccd2a0",
       "version_major": 2,
       "version_minor": 0
      },
      "text/plain": [
       "Running OOMMF (ExeOOMMFRunner):   0%|          | 0/99999 files written [00:00]"
      ]
     },
     "metadata": {},
     "output_type": "display_data"
    }
   ],
   "source": [
    "ev = mc.RungeKuttaEvolver(min_timestep=tstep) # Define the evolver as Runge Kutta method\n",
    "td = mc.TimeDriver(evolver=ev)                # Setup time driver with evolver input\n",
    "td.drive(system, n=ntot, t=tfinal, verbose=2) # Drive the system"
   ]
  },
  {
   "cell_type": "code",
   "execution_count": null,
   "id": "f73fb9f1",
   "metadata": {},
   "outputs": [],
   "source": [
    "# td._allowed_attributes"
   ]
  },
  {
   "cell_type": "code",
   "execution_count": null,
   "id": "7f5e574c",
   "metadata": {},
   "outputs": [],
   "source": [
    "system.table.data"
   ]
  },
  {
   "cell_type": "code",
   "execution_count": null,
   "id": "83a6126d",
   "metadata": {},
   "outputs": [],
   "source": [
    "# Plot the external magnetic field \n",
    "system.table.mpl(y=['Bx_zeeman', 'By_zeeman', 'Bz_zeeman'])\n",
    "plt.legend(['$H_x$','$H_y$','$H_z$'])\n",
    "plt.title('External Field')\n",
    "plt.ylabel('Field Magnitude (kA/m)')\n",
    "plt.savefig(newpath+r'\\mag_field.jpg')"
   ]
  },
  {
   "cell_type": "code",
   "execution_count": null,
   "id": "5101fda2",
   "metadata": {
    "scrolled": true
   },
   "outputs": [],
   "source": [
    "# Plot the normalized magnetization\n",
    "system.table.mpl(y=['mx', 'my', 'mz'])\n",
    "plt.legend(['$m_x$','$m_y$','$m_z$'])\n",
    "plt.ylabel('m')\n",
    "plt.title('Normalized Magnetization')\n",
    "plt.savefig(newpath+r'\\magnetization.jpg')"
   ]
  },
  {
   "cell_type": "code",
   "execution_count": null,
   "id": "409395f5",
   "metadata": {},
   "outputs": [],
   "source": [
    "# Assign magnetization data to x,y,z variables.\n",
    "mx = system.table.data['mx']\n",
    "my = system.table.data['my']\n",
    "mz = system.table.data['mz']"
   ]
  },
  {
   "cell_type": "code",
   "execution_count": null,
   "id": "d7ca5a57",
   "metadata": {},
   "outputs": [],
   "source": [
    "# Normalize the strain measurement axis and separate into x,y,z.\n",
    "B = B/np.linalg.norm(B)\n",
    "Bx = B[0]\n",
    "By = B[1]\n",
    "Bz = B[2]"
   ]
  },
  {
   "cell_type": "code",
   "execution_count": null,
   "id": "170b6f45",
   "metadata": {},
   "outputs": [],
   "source": [
    "# Strain calculation for cubic anisotropy\n",
    "ll = 3/2*L1*(mx**2*Bx**2+my**2*By**2+mz**2*Bz**2-1/3)+3*L2*(mx*my*Bx*By+my*mz*By*Bz+mz*mx*Bz*Bx)\n",
    "\n",
    "# Calculate strain rate by taking a numerical time derivative\n",
    "ll_rate = [0]\n",
    "for i in range(0,len(ll)-1):\n",
    "    ll_rate_i = (ll[i+1]-ll[i])/(system.table.data['t'][1]-system.table.data['t'][0])\n",
    "    ll_rate.append(ll_rate_i)\n",
    "\n"
   ]
  },
  {
   "cell_type": "code",
   "execution_count": null,
   "id": "508667b1",
   "metadata": {},
   "outputs": [],
   "source": [
    "# Define a new column in the data for the strain\n",
    "system.table.data['ll'] = ll\n",
    "system.table.data['ll_rate'] = ll_rate"
   ]
  },
  {
   "cell_type": "code",
   "execution_count": null,
   "id": "e68fc09e",
   "metadata": {
    "scrolled": true
   },
   "outputs": [],
   "source": [
    "# Plot the strain response\n",
    "system.table.mpl(y=['ll'])\n",
    "plt.legend().remove()\n",
    "plt.title('Model Strain Response')\n",
    "plt.ylabel(r'$\\lambda$ (ppm)')\n",
    "plt.savefig(newpath+r'\\strain.jpg')"
   ]
  },
  {
   "cell_type": "code",
   "execution_count": null,
   "id": "11190f64",
   "metadata": {},
   "outputs": [],
   "source": [
    "# Plot the strain response zoomed, change these if you'd like to see the small scale oscillations\n",
    "system.table.mpl(y=['ll'])\n",
    "plt.legend().remove()\n",
    "plt.title('Model Strain Response')\n",
    "plt.ylabel(r'$\\lambda$ (ppm)')\n",
    "plt.xlim([28,30])\n",
    "plt.ylim([7.5875,7.595])\n",
    "plt.savefig(newpath+r'\\strain_zoom.jpg')"
   ]
  },
  {
   "cell_type": "code",
   "execution_count": null,
   "id": "813022b2",
   "metadata": {},
   "outputs": [],
   "source": [
    "# Plot strain rate\n",
    "system.table.mpl(y=['ll_rate'])\n",
    "plt.legend().remove()\n",
    "plt.title('Model Strain Rate')\n",
    "plt.ylabel(r'$\\frac{d \\lambda}{dt}$ (ppm/s)')\n",
    "plt.savefig(newpath+r'\\strain_rate.jpg')"
   ]
  },
  {
   "cell_type": "code",
   "execution_count": null,
   "id": "22d754bf",
   "metadata": {},
   "outputs": [],
   "source": [
    "# Zoom in on the strain rate plot here\n",
    "system.table.mpl(y=['ll_rate'])\n",
    "plt.legend().remove()\n",
    "plt.title('Model Strain Rate')\n",
    "plt.ylabel(r'$\\frac{d \\lambda}{dt}$ (ppm/s)')\n",
    "plt.ylim([-500,500])\n",
    "plt.xlim([29.8,30])\n",
    "plt.savefig(newpath+r'\\strain_rate_zoom.jpg')"
   ]
  },
  {
   "cell_type": "code",
   "execution_count": null,
   "id": "3a78e307",
   "metadata": {},
   "outputs": [],
   "source": [
    "# FFT setup for strain\n",
    "from scipy.fft import fft, fftfreq\n",
    "T = system.table.data['t'][1]-system.table.data['t'][0]\n",
    "y = np.array(system.table.data['ll'])\n",
    "\n",
    "fft_ll = fft(y)\n",
    "N = len(y)\n",
    "x = np.linspace(0.0, N*T, N, endpoint=False)\n",
    "\n",
    "xf = fftfreq(N, T)[:N//2]\n",
    "\n",
    "PS = 2*np.abs(fft_ll[0:N//2])/N"
   ]
  },
  {
   "cell_type": "code",
   "execution_count": null,
   "id": "dcf5323e",
   "metadata": {
    "scrolled": false
   },
   "outputs": [],
   "source": [
    "# Plot the amplitude spectrum of strain\n",
    "plt.plot(xf, PS)\n",
    "plt.xlabel('f (Hz)')\n",
    "plt.ylabel('Magnitude')\n",
    "plt.xlim(0,5*source_freq)\n",
    "plt.ylim(0,0.00001)\n",
    "plt.grid()\n",
    "plt.title('Model Amplitude Spectrum')\n",
    "plt.savefig(newpath+r'\\amp_spectrum.jpg')"
   ]
  },
  {
   "cell_type": "code",
   "execution_count": null,
   "id": "deb2472d",
   "metadata": {},
   "outputs": [],
   "source": [
    "# Export Data to the folder specified\n",
    "system.table.data.to_csv(newpath+r'/data.csv')\n",
    "df = pd.DataFrame({'frequency':xf, 'Amplitude':PS})\n",
    "df.to_csv(newpath+r'/Power_Spectrum.csv')"
   ]
  },
  {
   "cell_type": "code",
   "execution_count": null,
   "id": "033c76c7",
   "metadata": {},
   "outputs": [],
   "source": [
    "# FFT setup for strain after time t_init\n",
    "from scipy.fft import fft, fftfreq\n",
    "t_init = 0.08\n",
    "T = system.table.data['t'][1]-system.table.data['t'][0]\n",
    "y = np.array(system.table.data['ll'][system.table.data['t']>t_init])\n",
    "\n",
    "fft_ll = fft(y)\n",
    "N = len(fft_ll)\n",
    "x = np.linspace(0.0, N*T, N, endpoint=False)\n",
    "\n",
    "xf = fftfreq(N, T)[:N//2]\n",
    "\n",
    "PS = 2*np.abs(fft_ll[0:N//2])/N"
   ]
  },
  {
   "cell_type": "code",
   "execution_count": null,
   "id": "31b05348",
   "metadata": {
    "scrolled": true
   },
   "outputs": [],
   "source": [
    "# Plot the amplitude spectrum of the strain after time t_init\n",
    "plt.plot(xf, PS)\n",
    "plt.grid()\n",
    "plt.xlabel('f (Hz)')\n",
    "plt.ylabel('Magnitude')\n",
    "plt.xlim(0,5*source_freq)\n",
    "plt.ylim(0,.2)\n",
    "plt.title('Filtered Model Amplitude Spectrum')\n",
    "plt.savefig(newpath+r'\\amp_spectrum_filtered.jpg')"
   ]
  },
  {
   "cell_type": "code",
   "execution_count": null,
   "id": "b5b04e16",
   "metadata": {},
   "outputs": [],
   "source": [
    "# FFT setup for strain rate after time t_init\n",
    "from scipy.fft import fft, fftfreq\n",
    "t_init2 = 0.08\n",
    "T = system.table.data['t'][1]-system.table.data['t'][0]\n",
    "y = np.array(system.table.data['ll_rate'][system.table.data['t']>t_init2])\n",
    "\n",
    "fft_ll = fft(y)\n",
    "N = len(fft_ll)\n",
    "x = np.linspace(0.0, N*T, N, endpoint=False)\n",
    "\n",
    "xf_rate = fftfreq(N, T)[:N//2]\n",
    "\n",
    "PS_rate = 2*np.abs(fft_ll[0:N//2])/N"
   ]
  },
  {
   "cell_type": "code",
   "execution_count": null,
   "id": "ccb9f7ae",
   "metadata": {},
   "outputs": [],
   "source": [
    "# Plot the amplitude spectrum of the strain rate\n",
    "plt.plot(xf_rate, PS_rate)\n",
    "plt.xlabel('f (Hz)')\n",
    "plt.ylabel('Magnitude')\n",
    "plt.xlim(0,5*source_freq)\n",
    "plt.ylim(0,0.01)\n",
    "plt.grid()\n",
    "plt.title('Model Strain Rate Amplitude Spectrum')\n",
    "plt.savefig(newpath+r'\\amp_spectrum_filtered_strain_rate.jpg')"
   ]
  },
  {
   "cell_type": "code",
   "execution_count": null,
   "id": "39f58be2",
   "metadata": {},
   "outputs": [],
   "source": [
    "# save the amplitude spectrum data\n",
    "df_rate = pd.DataFrame({'frequency':xf_rate, 'Amplitude':PS_rate})\n",
    "df_rate.to_csv(newpath+r'/Rate_Power_Spectrum.csv')"
   ]
  }
 ],
 "metadata": {
  "kernelspec": {
   "display_name": "Python 3 (ipykernel)",
   "language": "python",
   "name": "python3"
  },
  "language_info": {
   "codemirror_mode": {
    "name": "ipython",
    "version": 3
   },
   "file_extension": ".py",
   "mimetype": "text/x-python",
   "name": "python",
   "nbconvert_exporter": "python",
   "pygments_lexer": "ipython3",
   "version": "3.10.11"
  }
 },
 "nbformat": 4,
 "nbformat_minor": 5
}
